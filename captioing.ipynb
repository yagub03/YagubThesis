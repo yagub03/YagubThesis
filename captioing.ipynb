{
 "cells": [
  {
   "cell_type": "code",
   "execution_count": 3,
   "id": "f3c9394e",
   "metadata": {},
   "outputs": [
    {
     "name": "stderr",
     "output_type": "stream",
     "text": [
      "C:\\Users\\yagub\\anaconda3\\lib\\site-packages\\PIL\\Image.py:3074: DecompressionBombWarning: Image size (98642880 pixels) exceeds limit of 89478485 pixels, could be decompression bomb DOS attack.\n",
      "  warnings.warn(\n"
     ]
    },
    {
     "name": "stdout",
     "output_type": "stream",
     "text": [
      "All captions saved to C:/Users/yagub/Desktop/social/all_captions.txt\n"
     ]
    }
   ],
   "source": [
    "import os\n",
    "from PIL import Image\n",
    "import torch\n",
    "from lavis.models import load_model_and_preprocess\n",
    "\n",
    "# Setup device to use\n",
    "device = torch.device(\"cuda\" if torch.cuda.is_available() else \"cpu\")\n",
    "\n",
    "# Load the model and preprocessors\n",
    "model, vis_processors, _ = load_model_and_preprocess(\n",
    "    name=\"blip_caption\", model_type=\"large_coco\", is_eval=True, device=device\n",
    ")\n",
    "\n",
    "# Path to the folder containing images\n",
    "image_folder = \"C:/Users/yagub/Desktop/social/\"\n",
    "\n",
    "# List all image files in the folder\n",
    "image_files = [f for f in os.listdir(image_folder) if f.endswith(('jpg', 'jpeg', 'png'))]\n",
    "\n",
    "# Path for the output text file\n",
    "output_file = os.path.join(image_folder, \"all_captions.txt\")\n",
    "\n",
    "# Open the output file in write mode\n",
    "with open(output_file, \"w\") as f:\n",
    "    # Loop through each image file\n",
    "    for image_file in image_files:\n",
    "        image_path = os.path.join(image_folder, image_file)\n",
    "        raw_image = Image.open(image_path).convert(\"RGB\")\n",
    "\n",
    "        # Process the image\n",
    "        image = vis_processors[\"eval\"](raw_image).unsqueeze(0).to(device)\n",
    "\n",
    "        # Generate captions\n",
    "        captions = model.generate({\"image\": image}, use_nucleus_sampling=True, num_captions=3)\n",
    "\n",
    "        # Write captions to the output file\n",
    "        f.write(f\"{image_file}:\\n\")\n",
    "        for idx, caption in enumerate(captions):\n",
    "            f.write(f\"  {idx + 1}: {caption}\\n\")\n",
    "        f.write(\"\\n\")\n",
    "\n",
    "print(f\"All captions saved to {output_file}\")\n"
   ]
  },
  {
   "cell_type": "code",
   "execution_count": null,
   "id": "6ff822f0",
   "metadata": {},
   "outputs": [],
   "source": []
  }
 ],
 "metadata": {
  "kernelspec": {
   "display_name": "Python 3 (ipykernel)",
   "language": "python",
   "name": "python3"
  },
  "language_info": {
   "codemirror_mode": {
    "name": "ipython",
    "version": 3
   },
   "file_extension": ".py",
   "mimetype": "text/x-python",
   "name": "python",
   "nbconvert_exporter": "python",
   "pygments_lexer": "ipython3",
   "version": "3.9.16"
  }
 },
 "nbformat": 4,
 "nbformat_minor": 5
}
